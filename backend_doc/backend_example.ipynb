{
  "nbformat": 4,
  "nbformat_minor": 0,
  "metadata": {
    "colab": {
      "provenance": [],
      "authorship_tag": "ABX9TyPoIm8WyAMmTYHBJh7JDcy7",
      "include_colab_link": true
    },
    "kernelspec": {
      "name": "python3",
      "display_name": "Python 3"
    },
    "language_info": {
      "name": "python"
    }
  },
  "cells": [
    {
      "cell_type": "markdown",
      "metadata": {
        "id": "view-in-github",
        "colab_type": "text"
      },
      "source": [
        "<a href=\"https://colab.research.google.com/github/HWMV/OrchestrAI/blob/main/backend_example.ipynb\" target=\"_parent\"><img src=\"https://colab.research.google.com/assets/colab-badge.svg\" alt=\"Open In Colab\"/></a>"
      ]
    },
    {
      "cell_type": "markdown",
      "source": [
        "## File : agent_component.py"
      ],
      "metadata": {
        "id": "d6869TkAXamk"
      }
    },
    {
      "cell_type": "code",
      "source": [
        "from pydantic import BaseModel\n",
        "from typing import List\n",
        "\n",
        "# tool은 [] 리스트 형태로 받음\n",
        "class Tool(BaseModel):\n",
        "    name: str\n",
        "    description: str\n",
        "\n",
        "class AgentComponent(BaseModel):\n",
        "    role: str\n",
        "    goal: str\n",
        "    backstory: str\n",
        "    tools: List[Tool]"
      ],
      "metadata": {
        "id": "JSdrLSKZXbDt"
      },
      "execution_count": null,
      "outputs": []
    },
    {
      "cell_type": "markdown",
      "source": [
        "## File : agents.py"
      ],
      "metadata": {
        "id": "gMwFIcKDXbUZ"
      }
    },
    {
      "cell_type": "code",
      "source": [
        "from crewai import Agent\n",
        "from .agent_component import AgentComponent\n",
        "from .tools import Tools\n",
        "\n",
        "class Agents:\n",
        "    @staticmethod\n",
        "    def create_agent(component: AgentComponent) -> Agent:\n",
        "        return Agent(\n",
        "            role=component.role,\n",
        "            goal=component.goal,\n",
        "            backstory=component.backstory,\n",
        "            verbose=True,\n",
        "            tools=[Tools.create_tool(tool.name) for tool in component.tools]\n",
        "        )"
      ],
      "metadata": {
        "id": "S9xRD-WfXbeE"
      },
      "execution_count": null,
      "outputs": []
    },
    {
      "cell_type": "markdown",
      "source": [
        "## File : tasks.py"
      ],
      "metadata": {
        "id": "un_5D9aNXbj3"
      }
    },
    {
      "cell_type": "code",
      "source": [
        "from crewai import Task, Agent\n",
        "from typing import Dict, Any\n",
        "\n",
        "class Tasks:\n",
        "    @staticmethod\n",
        "    def create_task(task_data: Dict[str, Any], agent: Agent) -> Task:\n",
        "        return Task(\n",
        "            description=task_data['description'],\n",
        "            expected_output=task_data['expected_output'],\n",
        "            agent=agent,\n",
        "            output_file=task_data['file_name.format'],\n",
        "        )"
      ],
      "metadata": {
        "id": "tFXfWLj1Xbo9"
      },
      "execution_count": null,
      "outputs": []
    },
    {
      "cell_type": "markdown",
      "source": [
        "## File : tools.py"
      ],
      "metadata": {
        "id": "X-xRpcEiXbwM"
      }
    },
    {
      "cell_type": "code",
      "source": [
        "class Tools:\n",
        "    @staticmethod\n",
        "    def create_tool(tool_name: str):\n",
        "        # 원하는 Tool 로직 구현\n",
        "        pass"
      ],
      "metadata": {
        "id": "PKKNXqHQXb37"
      },
      "execution_count": null,
      "outputs": []
    },
    {
      "cell_type": "markdown",
      "source": [
        "## File : crews.py"
      ],
      "metadata": {
        "id": "QLLBtrkZZJKh"
      }
    },
    {
      "cell_type": "code",
      "source": [
        "from crewai import Crew, Agent, Task\n",
        "from typing import List\n",
        "from langchain_openai import ChatOpenAI\n",
        "# 추후 Gemini 추가 : 이전에 구현한 방법 있음, 참고 요망\n",
        "\n",
        "class CrewExecutor:\n",
        "    def __init__(self, agents: List[Agent], tasks: List[Task]):\n",
        "        self.agents = agents\n",
        "        self.tasks = tasks\n",
        "\n",
        "    def execute(self, inputs: Dict[str, Any] = None):\n",
        "        crew = Crew(\n",
        "            agents=self.agents,\n",
        "            tasks=self.tasks,\n",
        "            verbose=2,\n",
        "            process=Process.hierarchical,\n",
        "            manager_llm=ChatOpenAI(model=\"gpt-4\"),\n",
        "            memory=True,\n",
        "        )\n",
        "        return crew.kickoff(inputs=inputs)"
      ],
      "metadata": {
        "id": "Xw9KBu5RZJTo"
      },
      "execution_count": null,
      "outputs": []
    },
    {
      "cell_type": "markdown",
      "source": [
        "## File : main.py"
      ],
      "metadata": {
        "id": "pEmONNTwZJZb"
      }
    },
    {
      "cell_type": "code",
      "source": [
        "# 사용자의 입력을 받았다고 가정하고 테스트 예제 추가함\n",
        "from .agents import Agents\n",
        "from .tasks import Tasks\n",
        "from .agent_component import AgentComponent, Tool\n",
        "from .crews import CrewExecutor\n",
        "\n",
        "class Tasks:\n",
        "    @staticmethod\n",
        "    def create_task(task_data: Dict[str, Any], agent: Agent) -> Task:\n",
        "        return Task(\n",
        "            description=task_data['description'],\n",
        "            expected_output=task_data['expected_output'],\n",
        "            agent=agent,\n",
        "            output_file=task_data['file_name.format'],\n",
        "        )\n",
        "\n",
        "# file: tool_factory.py\n",
        "class ToolFactory:\n",
        "    @staticmethod\n",
        "    def create_tool(tool_name: str):\n",
        "        # Here you would implement the logic to create and return the actual tool\n",
        "        # This could involve importing the necessary functions or classes\n",
        "        pass\n",
        "\n",
        "# file: crew_executor.py\n",
        "from crewai import Crew, Agent, Task\n",
        "from typing import List\n",
        "from langchain_openai import ChatOpenAI\n",
        "\n",
        "class CrewExecutor:\n",
        "    def __init__(self, agents: List[Agent], tasks: List[Task]):\n",
        "        self.agents = agents\n",
        "        self.tasks = tasks\n",
        "\n",
        "    def execute(self, inputs: Dict[str, Any] = None):\n",
        "        crew = Crew(\n",
        "            agents=self.agents,\n",
        "            tasks=self.tasks,\n",
        "            verbose=2,\n",
        "            process=Process.hierarchical,\n",
        "            manager_llm=ChatOpenAI(model=\"gpt-4\"),\n",
        "            memory=True,\n",
        "        )\n",
        "        return crew.kickoff(inputs=inputs)\n",
        "\n",
        "# file: main.py\n",
        "from .agents import Agents\n",
        "from .tasks import Tasks\n",
        "from .agent_component import AgentComponent, Tool\n",
        "from .crews import CrewExecutor\n",
        "\n",
        "# Define your agents\n",
        "financial_analyst = AgentComponent(\n",
        "    role=\"Financial Analyst\",\n",
        "    goal=\"Evaluate a stock's financial health and performance\",\n",
        "    backstory=\"You're a very experienced investment advisor who uses a combination of technical and fundamental analysis to provide strategic investment advice to your clients.\",\n",
        "    tools=[\n",
        "        Tool(name=\"Balance Sheet\", description=\"Retrieve balance sheet data\", expected_output=\"str\", output_file=\"file_name.format\"),\n",
        "        Tool(name=\"Income Statement\", description=\"Retrieve income statement data\", expected_output=\"str\", output_file=\"file_name.format\"),\n",
        "        Tool(name=\"Insider Transactions\", description=\"Retrieve insider trading data\", expected_output=\"str\", output_file=\"file_name.format\"),\n",
        "    ]\n",
        ")\n",
        "\n",
        "# Create agents\n",
        "agent = AgentFactory.create_agent(financial_analyst)\n",
        "\n",
        "# Define tasks\n",
        "tasks = [\n",
        "    {\"description\": \"Analyze the company's financial statements\"},\n",
        "    {\"description\": \"Evaluate recent insider trading activities\"},\n",
        "    {\"description\": \"Provide a comprehensive financial health report\"}\n",
        "]\n",
        "\n",
        "# Create tasks\n",
        "created_tasks = [TaskFactory.create_task(task, agent) for task in tasks]\n",
        "\n",
        "# Create and execute crew\n",
        "executor = CrewExecutor([agent], created_tasks)\n",
        "# input Example\n",
        "result = executor.execute(inputs={\"company\": \"Salesforce\"})\n",
        "print(result)"
      ],
      "metadata": {
        "id": "o85PtV4oZJhh"
      },
      "execution_count": null,
      "outputs": []
    }
  ]
}