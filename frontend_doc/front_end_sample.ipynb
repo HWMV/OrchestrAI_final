{
  "nbformat": 4,
  "nbformat_minor": 0,
  "metadata": {
    "colab": {
      "provenance": [],
      "authorship_tag": "ABX9TyO12BwadljiNuCcL2mHohU4",
      "include_colab_link": true
    },
    "kernelspec": {
      "name": "python3",
      "display_name": "Python 3"
    },
    "language_info": {
      "name": "python"
    }
  },
  "cells": [
    {
      "cell_type": "markdown",
      "metadata": {
        "id": "view-in-github",
        "colab_type": "text"
      },
      "source": [
        "<a href=\"https://colab.research.google.com/github/HWMV/OrchestrAI/blob/main/frontend_doc/front_end_sample.ipynb\" target=\"_parent\"><img src=\"https://colab.research.google.com/assets/colab-badge.svg\" alt=\"Open In Colab\"/></a>"
      ]
    },
    {
      "cell_type": "markdown",
      "source": [
        "**Code Structure ASCII**\n",
        "\n",
        "orchestrai/\n",
        "│\n",
        "├── lib/\n",
        "│   ├── main.dart\n",
        "│   │\n",
        "│   ├── screens/\n",
        "│   │   └── crew_screen.dart\n",
        "│   │\n",
        "│   ├── widgets/\n",
        "│   │   ├── component_sidebar.dart\n",
        "│   │   ├── crew_canvas.dart\n",
        "│   │   └── parameter_sidebar.dart\n",
        "│   │\n",
        "│   ├── models/\n",
        "│   │   └── crew_model.dart\n",
        "│   │\n",
        "│   └── services/\n",
        "│       └── api_service.dart\n",
        "│\n",
        "├── pubspec.yaml\n",
        "│\n",
        "└── test/\n",
        "    └── widget_test.dart"
      ],
      "metadata": {
        "id": "Mge0phOWi7jM"
      }
    },
    {
      "cell_type": "markdown",
      "source": [
        "## main.dart : 진입점, 전체 테마"
      ],
      "metadata": {
        "id": "Wm31tyjVi_a2"
      }
    },
    {
      "cell_type": "code",
      "source": [
        "import 'package:flutter/material.dart';\n",
        "import 'screens/crew_screen.dart';\n",
        "\n",
        "void main() {\n",
        "  runApp(OrchestrAIApp());\n",
        "}\n",
        "\n",
        "class OrchestrAIApp extends StatelessWidget {\n",
        "  @override\n",
        "  Widget build(BuildContext context) {\n",
        "    return MaterialApp(\n",
        "      title: 'OrchestrAI',\n",
        "      theme: ThemeData(\n",
        "        primarySwatch: Colors.blue,\n",
        "        visualDensity: VisualDensity.adaptivePlatformDensity,\n",
        "      ),\n",
        "      home: CrewScreen(),\n",
        "    );\n",
        "  }\n",
        "}"
      ],
      "metadata": {
        "id": "s6wU1qNRi7zP"
      },
      "execution_count": null,
      "outputs": []
    },
    {
      "cell_type": "markdown",
      "source": [
        "## screens/crew_screen.dart :\n",
        "메인 화면, 3개의 주요 부분 (좌측 사이드바/중앙 캔버스/우측 사이드바)"
      ],
      "metadata": {
        "id": "IubbR62Di755"
      }
    },
    {
      "cell_type": "code",
      "source": [
        "import 'package:flutter/material.dart';\n",
        "import '../widgets/component_sidebar.dart';\n",
        "import '../widgets/crew_canvas.dart';\n",
        "import '../widgets/parameter_sidebar.dart';\n",
        "\n",
        "class CrewScreen extends StatelessWidget {\n",
        "  @override\n",
        "  Widget build(BuildContext context) {\n",
        "    return Scaffold(\n",
        "      appBar: AppBar(title: Text('OrchestrAI')),\n",
        "      body: Row(\n",
        "        children: [\n",
        "          Expanded(flex: 1, child: ComponentSidebar()),\n",
        "          Expanded(flex: 3, child: CrewCanvas()),\n",
        "          Expanded(flex: 1, child: ParameterSidebar()),\n",
        "        ],\n",
        "      ),\n",
        "    );\n",
        "  }\n",
        "}"
      ],
      "metadata": {
        "id": "aeSqv7Oni8AY"
      },
      "execution_count": null,
      "outputs": []
    },
    {
      "cell_type": "markdown",
      "source": [
        "## widgets/component_sidebar.dart\n",
        "\n",
        ": 좌측 컴포넌트 사이드 바"
      ],
      "metadata": {
        "id": "qEh_H2Lji8GE"
      }
    },
    {
      "cell_type": "code",
      "source": [
        "import 'package:flutter/material.dart';\n",
        "import 'package:provider/provider.dart';\n",
        "import '../models/crew_model.dart';\n",
        "\n",
        "class ComponentSidebar extends StatelessWidget {\n",
        "  @override\n",
        "  Widget build(BuildContext context) {\n",
        "    return Consumer<CrewModel>(\n",
        "      builder: (context, crewModel, child) {\n",
        "        return Container(\n",
        "          color: Colors.grey[200],\n",
        "          child: ListView(\n",
        "            children: [\n",
        "              ListTile(\n",
        "                title: Text('Agents (${crewModel.agents.length})'),\n",
        "                trailing: Icon(Icons.add),\n",
        "                onTap: () => _showAgentDialog(context, crewModel),\n",
        "              ),\n",
        "              ListTile(\n",
        "                title: Text('Tasks (${crewModel.tasks.length})'),\n",
        "                trailing: Icon(Icons.add),\n",
        "                onTap: () => _showTaskDialog(context, crewModel),\n",
        "              ),\n",
        "              ListTile(\n",
        "                title: Text('Tools'),\n",
        "                trailing: Icon(Icons.add),\n",
        "                onTap: () => _showToolDialog(context, crewModel),\n",
        "              ),\n",
        "            ],\n",
        "          ),\n",
        "        );\n",
        "      },\n",
        "    );\n",
        "  }\n",
        "\n",
        "  void _showAgentDialog(BuildContext context, CrewModel crewModel) {\n",
        "    showDialog(\n",
        "      context: context,\n",
        "      builder: (BuildContext context) {\n",
        "        String agentName = '';\n",
        "        return AlertDialog(\n",
        "          title: Text('Add New Agent'),\n",
        "          content: TextField(\n",
        "            decoration: InputDecoration(hintText: \"Enter agent name\"),\n",
        "            onChanged: (value) => agentName = value,\n",
        "          ),\n",
        "          actions: [\n",
        "            TextButton(\n",
        "              child: Text('Cancel'),\n",
        "              onPressed: () => Navigator.of(context).pop(),\n",
        "            ),\n",
        "            TextButton(\n",
        "              child: Text('Add'),\n",
        "              onPressed: () {\n",
        "                if (agentName.isNotEmpty) {\n",
        "                  crewModel.addAgent(AgentModel(\n",
        "                    role: agentName,\n",
        "                    goal: '',\n",
        "                    backstory: '',\n",
        "                    tools: [],\n",
        "                  ));\n",
        "                  Navigator.of(context).pop();\n",
        "                }\n",
        "              },\n",
        "            ),\n",
        "          ],\n",
        "        );\n",
        "      },\n",
        "    );\n",
        "  }\n",
        "\n",
        "  void _showTaskDialog(BuildContext context, CrewModel crewModel) {\n",
        "    // Similar implementation to _showAgentDialog\n",
        "    // but for adding a new task\n",
        "  }\n",
        "\n",
        "  void _showToolDialog(BuildContext context, CrewModel crewModel) {\n",
        "    // Similar implementation to _showAgentDialog\n",
        "    // but for adding a new tool\n",
        "  }\n",
        "}"
      ],
      "metadata": {
        "id": "ljuIfL7vi8MX"
      },
      "execution_count": null,
      "outputs": []
    },
    {
      "cell_type": "markdown",
      "source": [
        "## widgets/crew_canvas.dart\n",
        ": 중앙 캔버스 (Crew 화면)"
      ],
      "metadata": {
        "id": "xPW8wv1li8SF"
      }
    },
    {
      "cell_type": "code",
      "source": [
        "import 'package:flutter/material.dart';\n",
        "import 'package:provider/provider.dart';\n",
        "import '../widgets/component_sidebar.dart';\n",
        "import '../widgets/crew_canvas.dart';\n",
        "import '../widgets/parameter_sidebar.dart';\n",
        "import '../models/crew_model.dart';\n",
        "import '../services/api_service.dart';\n",
        "\n",
        "class CrewScreen extends StatelessWidget {\n",
        "  final ApiService apiService = ApiService();\n",
        "\n",
        "  @override\n",
        "  Widget build(BuildContext context) {\n",
        "    return ChangeNotifierProvider(\n",
        "      create: (_) => CrewModel(),\n",
        "      child: Scaffold(\n",
        "        appBar: AppBar(title: Text('OrchestrAI')),\n",
        "        body: Row(\n",
        "          children: [\n",
        "            Expanded(flex: 1, child: ComponentSidebar()),\n",
        "            Expanded(flex: 3, child: CrewCanvas()),\n",
        "            Expanded(flex: 1, child: ParameterSidebar()),\n",
        "          ],\n",
        "        ),\n",
        "        floatingActionButton: Consumer<CrewModel>(\n",
        "          builder: (context, crewModel, child) {\n",
        "            return FloatingActionButton(\n",
        "              onPressed: () async {\n",
        "                try {\n",
        "                  final result = await apiService.createWorkflow(crewModel.toJson());\n",
        "                  ScaffoldMessenger.of(context).showSnackBar(\n",
        "                    SnackBar(content: Text('Workflow created successfully')),\n",
        "                  );\n",
        "                } catch (e) {\n",
        "                  ScaffoldMessenger.of(context).showSnackBar(\n",
        "                    SnackBar(content: Text('Failed to create workflow: $e')),\n",
        "                  );\n",
        "                }\n",
        "              },\n",
        "              child: Icon(Icons.send),\n",
        "            );\n",
        "          },\n",
        "        ),\n",
        "      ),\n",
        "    );\n",
        "  }\n",
        "}"
      ],
      "metadata": {
        "id": "h5-uRFyki8YG"
      },
      "execution_count": null,
      "outputs": []
    },
    {
      "cell_type": "markdown",
      "source": [
        "## widgets/parameter_sidebar.dart\n",
        "\n",
        ": 우측 파라미터 사이드 바"
      ],
      "metadata": {
        "id": "21s2Oa4pi8d5"
      }
    },
    {
      "cell_type": "code",
      "source": [
        "import 'package:flutter/material.dart';\n",
        "\n",
        "class ParameterSidebar extends StatelessWidget {\n",
        "  @override\n",
        "  Widget build(BuildContext context) {\n",
        "    return Container(\n",
        "      color: Colors.grey[200],\n",
        "      child: ListView(\n",
        "        children: [\n",
        "          TextField(\n",
        "            decoration: InputDecoration(\n",
        "              labelText: 'Agent Name',\n",
        "            ),\n",
        "          ),\n",
        "          TextField(\n",
        "            decoration: InputDecoration(\n",
        "              labelText: 'Task Description',\n",
        "            ),\n",
        "          ),\n",
        "          TextField(\n",
        "            decoration: InputDecoration(\n",
        "              labelText: 'Tool Name',\n",
        "            ),\n",
        "          ),\n",
        "        ],\n",
        "      ),\n",
        "    );\n",
        "  }\n",
        "}\n"
      ],
      "metadata": {
        "id": "jiZjFz7_i8jp"
      },
      "execution_count": null,
      "outputs": []
    },
    {
      "cell_type": "markdown",
      "source": [
        "## models/crew_model.dart\n",
        "\n",
        ": Crew, Agent, Task들의 상태를 관리하기 위한 모듈"
      ],
      "metadata": {
        "id": "fShjrYJFi8vX"
      }
    },
    {
      "cell_type": "code",
      "source": [
        "import 'package:flutter/foundation.dart';\n",
        "\n",
        "class CrewModel extends ChangeNotifier {\n",
        "  List<AgentModel> agents = [];\n",
        "  List<TaskModel> tasks = [];\n",
        "\n",
        "  void addAgent(AgentModel agent) {\n",
        "    agents.add(agent);\n",
        "    notifyListeners();\n",
        "  }\n",
        "\n",
        "  void addTask(TaskModel task) {\n",
        "    tasks.add(task);\n",
        "    notifyListeners();\n",
        "  }\n",
        "\n",
        "  Map<String, dynamic> toJson() {\n",
        "    return {\n",
        "      'agents': agents.map((agent) => agent.toJson()).toList(),\n",
        "      'tasks': tasks.map((task) => task.toJson()).toList(),\n",
        "    };\n",
        "  }\n",
        "}\n",
        "\n",
        "class AgentModel {\n",
        "  String role;\n",
        "  String goal;\n",
        "  String backstory;\n",
        "  List<String> tools;\n",
        "\n",
        "  AgentModel({required this.role, required this.goal, required this.backstory, required this.tools});\n",
        "\n",
        "  Map<String, dynamic> toJson() {\n",
        "    return {\n",
        "      'role': role,\n",
        "      'goal': goal,\n",
        "      'backstory': backstory,\n",
        "      'tools': tools,\n",
        "    };\n",
        "  }\n",
        "}\n",
        "\n",
        "class TaskModel {\n",
        "  String description;\n",
        "  String expectedOutput;\n",
        "  String agentName;\n",
        "\n",
        "  TaskModel({required this.description, required this.expectedOutput, required this.agentName});\n",
        "\n",
        "  Map<String, dynamic> toJson() {\n",
        "    return {\n",
        "      'description': description,\n",
        "      'expected_output': expectedOutput,\n",
        "      'agent_name': agentName,\n",
        "    };\n",
        "  }\n",
        "}"
      ],
      "metadata": {
        "id": "eQI30pSVi84o"
      },
      "execution_count": null,
      "outputs": []
    },
    {
      "cell_type": "markdown",
      "source": [
        "## service/api_service.dart\n",
        "\n",
        ": 백엔드 서버와의 호출을 연결하기 위한 모듈"
      ],
      "metadata": {
        "id": "wtIo6Hwei8_o"
      }
    },
    {
      "cell_type": "code",
      "source": [
        "import 'package:http/http.dart' as http;\n",
        "import 'dart:convert';\n",
        "\n",
        "class ApiService {\n",
        "  final String baseUrl = 'https://your-backend-url.com/api';\n",
        "\n",
        "  Future<Map<String, dynamic>> createWorkflow(Map<String, dynamic> data) async {\n",
        "    final response = await http.post(\n",
        "      Uri.parse('$baseUrl/create-workflow'),\n",
        "      headers: {'Content-Type': 'application/json'},\n",
        "      body: json.encode(data),\n",
        "    );\n",
        "\n",
        "    if (response.statusCode == 200) {\n",
        "      return json.decode(response.body);\n",
        "    } else {\n",
        "      throw Exception('Failed to create workflow');\n",
        "    }\n",
        "  }\n",
        "}"
      ],
      "metadata": {
        "id": "QWI6NSbfi9F7"
      },
      "execution_count": null,
      "outputs": []
    }
  ]
}